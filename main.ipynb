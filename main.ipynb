{
 "cells": [
  {
   "cell_type": "code",
   "execution_count": 1,
   "id": "4bee8382-6611-4ecd-83b0-de92c39be860",
   "metadata": {},
   "outputs": [],
   "source": [
    "import csv\n",
    "import random"
   ]
  },
  {
   "cell_type": "code",
   "execution_count": null,
   "id": "0bbc02fc-5a72-43de-bb46-03cd507c912c",
   "metadata": {},
   "outputs": [
    {
     "name": "stdout",
     "output_type": "stream",
     "text": [
      "\n",
      "Which method \n",
      "of Model\n",
      "object is used \n",
      "to extract the\n",
      "required layer\n",
      "from a NN\n",
      "model?\n",
      "1. layer()\n",
      "2. model_layer()\n",
      "3. get_layer()\n",
      "4. extract_layer()\n"
     ]
    },
    {
     "name": "stdin",
     "output_type": "stream",
     "text": [
      "Enter your choice (1-4) 3\n"
     ]
    },
    {
     "name": "stdout",
     "output_type": "stream",
     "text": [
      "Correct answer!\n",
      "\n",
      "Bag of words\n",
      "model uses\n",
      "1. All of the\n",
      "above\n",
      "2. Measure of\n",
      "the presence\n",
      "of known \n",
      "words\n",
      "3. Vocabulary of\n",
      "known words\n",
      "4. None of the\n",
      "above\n"
     ]
    }
   ],
   "source": [
    "#Laod quetion from CSV\n",
    "def load_questions(filename):\n",
    "\n",
    "    questions = [] #Create an empty list\n",
    "    with open(filename, 'r', encoding = 'utf-8') as file:\n",
    "        reader = csv.DictReader(file) #Each row as a dictionary\n",
    "        for row in reader:\n",
    "            questions.append(row) #add each dictionary question to row\n",
    "\n",
    "    return questions\n",
    "#Ask a quetion from user\n",
    "def ask_question(question_data):\n",
    "    print(\"\\n\" + question_data['Questions'])\n",
    "\n",
    "    #get the option\n",
    "    options = [question_data['Option 1'], question_data['Option 2'], \n",
    "               question_data['Option 3'], question_data['Option 4']]\n",
    "    random.shuffle(options)  #Shuffle the option so they appear randomly\n",
    "\n",
    "    #Display the option\n",
    "    for i, option in enumerate(options):\n",
    "        print(f\"{ i + 1}. {option}\")\n",
    "\n",
    "    #Get user input\n",
    "\n",
    "    while True: #Ask until user enter valid charcter\n",
    "        try:\n",
    "            choice = int(input(\"Enter your choice (1-4)\"))\n",
    "            selected_option = options[choice - 1]\n",
    "            break\n",
    "        except(ValueError, IndexError): #Invalid input like abc or more than 4\n",
    "            print(\"Oopps... Invalid!\")\n",
    "            print(\"Enter your choice between 1-4 only!!\")\n",
    "\n",
    "    #check answer\n",
    "\n",
    "    if selected_option == question_data['Correct ']:\n",
    "        print(\"Correct answer!\")\n",
    "        return 1\n",
    "\n",
    "    else:\n",
    "        print(f\"Wrong answer!. The correct answer was {question_data['Correct ']}\")\n",
    "        return 0\n",
    "\n",
    "def run_quiz():\n",
    "    questions = load_questions('Cleaned_MND')\n",
    "    random.shuffle(questions)\n",
    "    score = 0\n",
    "\n",
    "    for question in questions:\n",
    "        score += ask_question(question)\n",
    "\n",
    "    print(f\"Quiz completed! Your final score is : {score}/{len(questions)}\")\n",
    "\n",
    "if __name__ == \"__main__\":\n",
    "    run_quiz()\n",
    "        "
   ]
  },
  {
   "cell_type": "code",
   "execution_count": 24,
   "id": "ce03b1b3-dcb4-48c2-afa1-ed2b87734e5e",
   "metadata": {},
   "outputs": [],
   "source": []
  },
  {
   "cell_type": "code",
   "execution_count": null,
   "id": "d6bf96c6-dcb0-4bf0-a848-37e9f9d6f681",
   "metadata": {},
   "outputs": [],
   "source": []
  }
 ],
 "metadata": {
  "kernelspec": {
   "display_name": "Python 3 (ipykernel)",
   "language": "python",
   "name": "python3"
  },
  "language_info": {
   "codemirror_mode": {
    "name": "ipython",
    "version": 3
   },
   "file_extension": ".py",
   "mimetype": "text/x-python",
   "name": "python",
   "nbconvert_exporter": "python",
   "pygments_lexer": "ipython3",
   "version": "3.12.4"
  }
 },
 "nbformat": 4,
 "nbformat_minor": 5
}
